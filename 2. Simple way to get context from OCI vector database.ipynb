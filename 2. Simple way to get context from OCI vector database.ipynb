{
 "cells": [
  {
   "cell_type": "markdown",
   "id": "165c9979",
   "metadata": {},
   "source": [
    "# Simple Way to Get Context from Vector Database\n",
    "This notebook demonstrates how to retrieve contextual information from a vector oracle database. Vector databases are used to store and query high-dimensional vectors, which are often derived from text. The notebook covers the following steps:\n",
    "\n",
    "\n",
    "1. Create the table that stores the embeddings and populated (folowing the process in '1. Create knowledge base.ipynb'\n",
    "2. Connecting to the Vector Database: Code to establish a connection to the vector database.\n",
    "3. Embedding query: Code to use OCIGenAIEmbeddings to generate a vector from a query\n",
    "4. Querying the Database: Techniques for querying the database to retrieve relevant context based on input vectors.\n",
    "\n",
    "\n"
   ]
  },
  {
   "cell_type": "code",
   "execution_count": 1,
   "id": "65f6016e-2e12-4247-a386-3cd4acc55623",
   "metadata": {},
   "outputs": [
    {
     "data": {
      "text/plain": [
       "True"
      ]
     },
     "execution_count": 1,
     "metadata": {},
     "output_type": "execute_result"
    }
   ],
   "source": [
    "from langchain_community.embeddings.oci_generative_ai import OCIGenAIEmbeddings\n",
    "from langchain_community.vectorstores import OracleVS\n",
    "import oracledb\n",
    "import os\n",
    "from dotenv import load_dotenv\n",
    "load_dotenv()"
   ]
  },
  {
   "cell_type": "code",
   "execution_count": null,
   "id": "6a2937a8",
   "metadata": {},
   "outputs": [],
   "source": [
    "def get_context_by_query():\n",
    "    \"\"\"\n",
    "    Retrieves context by performing a similarity search using a query embedding.\n",
    "    This function performs the following steps:\n",
    "    1. Loads environment variables from a .env file.\n",
    "    2. Initializes the OCI embedding service using the loaded environment variables.\n",
    "    3. Connects to an Oracle Autonomous Database using the loaded environment variables.\n",
    "    4. Creates an embedding for a predefined query.\n",
    "    5. Initializes a vector store with the database connection, embeddings, and table name.\n",
    "    6. Performs a similarity search using the query embedding to retrieve the top results.\n",
    "    Returns:\n",
    "        list: A list of top results based on the similarity search.\n",
    "    \"\"\"\n",
    "\n",
    "    #OCI embedding service\n",
    "    embeddings =  OCIGenAIEmbeddings(\n",
    "        model_id=os.getenv('CON_GEN_AI_EMB_MODEL_ID'),\n",
    "        service_endpoint=os.getenv('CON_GEN_AI_SERVICE_ENDPOINT'),\n",
    "        compartment_id=os.getenv('CON_GEN_AI_COMPARTMENT_ID')\n",
    "        )\n",
    "\n",
    "    # Connect to Oracle Autonomous Database\n",
    "    default_path = \"\"\n",
    "    conn = oracledb.connect(\n",
    "        user=os.getenv('CON_ADB_DEV_USER_NAME'), \n",
    "        password=os.getenv('CON_ADB_DEV_PASSWORD'), \n",
    "        dsn=os.getenv('CON_ADB_DEV_SERVICE_NAME'),\n",
    "        config_dir=default_path+\"oci\",\n",
    "        wallet_location=default_path+\"oci\",\n",
    "        wallet_password=os.getenv('DB_WALLET_PASSWORD')\n",
    "        )\n",
    "    \n",
    "    #query\n",
    "    query = [\"Retrieval Augmented Generation (RAG), Large Language Models (LLMs)\"]\n",
    "    # create query embedding \n",
    "    query_embedding = embeddings.embed_documents(query)\n",
    "\n",
    "    #table containing embeddings\n",
    "    table_name = \"DOCS\"\n",
    "\n",
    "    #create vector store\n",
    "    vector_store = OracleVS(conn, embeddings, table_name)\n",
    "\n",
    "    #get context\n",
    "    results = vector_store.similarity_search_by_vector(embedding=query_embedding[0], \n",
    "        k=10  # Number of top results to retrieve\n",
    "    )\n",
    "    return results"
   ]
  },
  {
   "cell_type": "code",
   "execution_count": null,
   "id": "a72437ec-2b09-4bad-aff0-330cdeeec25b",
   "metadata": {},
   "outputs": [],
   "source": [
    "results = get_context_by_query()\n",
    "#print context\n",
    "for i, result in enumerate(results):\n",
    "    print(f\"Result {i + 1}:\")\n",
    "    print(f\"ID: {result.metadata['file_id']}\")\n",
    "    print(f\"ID: {result.metadata}\")\n",
    "    print(f\"ID: {result.page_content}\")\n",
    "    print(\"-\" * 60)"
   ]
  }
 ],
 "metadata": {
  "kernelspec": {
   "display_name": "entel",
   "language": "python",
   "name": "python3"
  },
  "language_info": {
   "codemirror_mode": {
    "name": "ipython",
    "version": 3
   },
   "file_extension": ".py",
   "mimetype": "text/x-python",
   "name": "python",
   "nbconvert_exporter": "python",
   "pygments_lexer": "ipython3",
   "version": "3.13.1"
  }
 },
 "nbformat": 4,
 "nbformat_minor": 5
}

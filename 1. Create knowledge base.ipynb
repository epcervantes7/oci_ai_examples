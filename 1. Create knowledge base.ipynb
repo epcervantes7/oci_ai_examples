{
 "cells": [
  {
   "cell_type": "code",
   "execution_count": 1,
   "id": "ca38f306",
   "metadata": {},
   "outputs": [
    {
     "data": {
      "text/plain": [
       "True"
      ]
     },
     "execution_count": 1,
     "metadata": {},
     "output_type": "execute_result"
    }
   ],
   "source": [
    "import os\n",
    "import oracledb\n",
    "from langchain_community.embeddings import OCIGenAIEmbeddings\n",
    "from langchain.document_loaders import PyPDFLoader\n",
    "from langchain_community.vectorstores import OracleVS\n",
    "from langchain_community.vectorstores.utils import DistanceStrategy\n",
    "\n",
    "from dotenv import load_dotenv\n",
    "load_dotenv()"
   ]
  },
  {
   "cell_type": "markdown",
   "id": "81e01fd8",
   "metadata": {},
   "source": [
    "# create knowledge base table"
   ]
  },
  {
   "cell_type": "markdown",
   "id": "3c081dde",
   "metadata": {},
   "source": [
    "### Create database connection"
   ]
  },
  {
   "cell_type": "code",
   "execution_count": null,
   "id": "46153238",
   "metadata": {},
   "outputs": [],
   "source": [
    "\n",
    "default_path = \"\"\n",
    "connection = oracledb.connect(\n",
    "    user=os.getenv('CON_ADB_DEV_USER_NAME'), \n",
    "    password=os.getenv('CON_ADB_DEV_PASSWORD'), \n",
    "    dsn=os.getenv('CON_ADB_DEV_SERVICE_NAME'),\n",
    "    config_dir=default_path+\"oci\",\n",
    "    wallet_location=default_path+\"oci\",\n",
    "    wallet_password=os.getenv('DB_WALLET_PASSWORD')\n",
    "    )"
   ]
  },
  {
   "cell_type": "markdown",
   "id": "9bbffc99",
   "metadata": {},
   "source": [
    "### Create knowledge table"
   ]
  },
  {
   "cell_type": "code",
   "execution_count": 3,
   "id": "444e464c",
   "metadata": {},
   "outputs": [],
   "source": [
    "table_name = 'my_docs'\n",
    "with connection.cursor() as cursor:\n",
    "    cursor.execute(f\"\"\"\n",
    "        CREATE TABLE IF NOT EXISTS {table_name}\n",
    "        (\t\n",
    "            DOCS_ID NUMBER, \n",
    "            FILE_ID NUMBER, \n",
    "            TEXT CLOB , \n",
    "            METADATA CLOB , \n",
    "            EMBEDDING VECTOR NOT NULL ENABLE\n",
    "        ) \n",
    "        \"\"\")"
   ]
  },
  {
   "cell_type": "markdown",
   "id": "57656e39",
   "metadata": {},
   "source": [
    "### Split the text and update metadata"
   ]
  },
  {
   "cell_type": "code",
   "execution_count": 4,
   "id": "930be5d9",
   "metadata": {},
   "outputs": [],
   "source": [
    "from langchain.text_splitter import RecursiveCharacterTextSplitter\n",
    "from langchain_community.chat_models.oci_generative_ai import ChatOCIGenAI\n",
    "# Step 1: Load PDF and CSV Documents\n",
    "def load_documents(file_name):\n",
    "    # Load PDF Document\n",
    "    pdf_loader = PyPDFLoader(file_name)\n",
    "    pdf_documents = pdf_loader.load()\n",
    "    return pdf_documents\n",
    " \n",
    "# Step 2: Split the documents into smaller chunks for better processing\n",
    "def split_documents(documents):\n",
    "    text_splitter = RecursiveCharacterTextSplitter(\n",
    "        chunk_size=1000,\n",
    "        chunk_overlap=100,\n",
    "    )\n",
    "    split_docs = text_splitter.split_documents(documents)\n",
    "    return split_docs\n",
    "\n",
    "# Load and process documents\n",
    "file_name =\"data/database-concepts-23ai.pdf\"\n",
    "documents = load_documents(file_name)\n",
    "chunks = split_documents(documents)\n",
    "for idx, text in enumerate(chunks):\n",
    "    metadata = {\"docs_id\": idx, \n",
    "                \"file_id\": 1,\n",
    "                \"user_role\":'tester',\n",
    "                'source':text.metadata['source'],\n",
    "                'total_pages':text.metadata['total_pages'],\n",
    "                'page':text.metadata['page'],\n",
    "                'page_label':text.metadata['page_label'],\n",
    "                'title':text.metadata['title']\n",
    "                }\n",
    "    chunks[idx].metadata=metadata\n",
    "# chunks"
   ]
  },
  {
   "cell_type": "code",
   "execution_count": 5,
   "id": "65cb76a1",
   "metadata": {},
   "outputs": [
    {
     "data": {
      "text/plain": [
       "{'docs_id': 100,\n",
       " 'file_id': 1,\n",
       " 'user_role': 'tester',\n",
       " 'source': 'data/database-concepts-23ai.pdf',\n",
       " 'total_pages': 794,\n",
       " 'page': 42,\n",
       " 'page_label': '1-19',\n",
       " 'title': 'Database Concepts'}"
      ]
     },
     "execution_count": 5,
     "metadata": {},
     "output_type": "execute_result"
    }
   ],
   "source": [
    "chunks[100].metadata"
   ]
  },
  {
   "cell_type": "code",
   "execution_count": 6,
   "id": "4bb89287",
   "metadata": {},
   "outputs": [],
   "source": [
    "default_path=\"\"\n",
    "AUTH_TYPE = \"API_KEY\"\n",
    "CONFIG_PROFILE = \"DEFAULT\"\n",
    "embeddings = OCIGenAIEmbeddings(\n",
    "            model_id=os.getenv('CON_GEN_AI_EMB_MODEL_ID'),\n",
    "            service_endpoint=os.getenv('CON_GEN_AI_SERVICE_ENDPOINT'),\n",
    "            compartment_id=os.getenv('CON_GEN_AI_COMPARTMENT_ID'),\n",
    "            truncate=\"NONE\",\n",
    "            auth_file_location=default_path+\"oci/config\",\n",
    "            auth_type=AUTH_TYPE,\n",
    "            auth_profile=CONFIG_PROFILE\n",
    "        )\n",
    "\n",
    "# documents = [\"This is a sample document\", \"and here is another one\"]\n",
    "# response = embeddings.embed_documents(documents)\n",
    "# print(response)"
   ]
  },
  {
   "cell_type": "code",
   "execution_count": 17,
   "id": "767000cc",
   "metadata": {},
   "outputs": [
    {
     "data": {
      "text/plain": [
       "2038"
      ]
     },
     "execution_count": 17,
     "metadata": {},
     "output_type": "execute_result"
    }
   ],
   "source": [
    "len(chunks)"
   ]
  },
  {
   "cell_type": "code",
   "execution_count": 24,
   "id": "01f1c177",
   "metadata": {},
   "outputs": [],
   "source": [
    "# using from_documents to create the table and insert the 10 first chunks\n",
    "vector_store = OracleVS.from_documents(\n",
    "    chunks[:10],\n",
    "    embeddings,\n",
    "    client=connection,\n",
    "    table_name=table_name,\n",
    "    distance_strategy=DistanceStrategy.COSINE,\n",
    ")\n",
    "\n",
    "\n"
   ]
  },
  {
   "cell_type": "code",
   "execution_count": null,
   "id": "54465849",
   "metadata": {},
   "outputs": [],
   "source": [
    "# using add_documents to insert the reminding chunks\n",
    "vector_store.add_documents(chunks[10:])"
   ]
  },
  {
   "cell_type": "code",
   "execution_count": 28,
   "id": "95459600",
   "metadata": {},
   "outputs": [],
   "source": [
    "# creating index\n",
    "from langchain_community.vectorstores import oraclevs\n",
    "\n",
    "# create index\n",
    "oraclevs.create_index(\n",
    "    connection,\n",
    "    vector_store,\n",
    "    params={\"idx_name\": \"hnsw_idx1\", \"idx_type\": \"HNSW\", \"accuracy\": 97, \"parallel\": 16,}\n",
    ")"
   ]
  },
  {
   "cell_type": "code",
   "execution_count": 30,
   "id": "b6f9eacb",
   "metadata": {},
   "outputs": [
    {
     "data": {
      "text/plain": [
       "[Document(metadata={'docs_id': Decimal('42'), 'file_id': Decimal('1'), 'user_role': 'tester', 'source': 'data/database-concepts-23ai.pdf', 'total_pages': Decimal('794'), 'page': Decimal('19'), 'page_label': 'xx', 'title': 'Database Concepts'}, page_content='Distributed SQL 20-35\\nDatabase Links 20-35\\nInformation Sharing 20-36\\nOracle GoldenGate 20-36\\nOracle Database Advanced Queuing (AQ) 20-36\\n21  \\n \\nArtificial Intelligence in the Oracle Database\\nOverview of Oracle AI Vector Search 21-1\\nUnderstand Hierarchical Navigable Small World Indexes 21-5\\nUnderstand Inverted File Flat Vector Indexes 21-9\\nVector Distance Metrics 21-15\\nArtificial Intelligence in the Oracle Database 21-15\\nPerform Exact Similarity Search 21-15\\nUnderstand Approximate Similarity Search Using Vector Indexes 21-17\\nxx'),\n",
       " Document(metadata={'docs_id': Decimal('1618'), 'file_id': Decimal('1'), 'user_role': 'tester', 'source': 'data/database-concepts-23ai.pdf', 'total_pages': Decimal('794'), 'page': Decimal('617'), 'page_label': '21-1', 'title': 'Database Concepts'}, page_content='filtering in the relational database world.\\n• Artificial Intelligence in the Oracle Database\\nThis section describes the methods for performing similarity searches.\\nOverview of Oracle AI Vector Search\\nOracle AI Vector Search is designed for Artificial Intelligence (AI) workloads and allows you to\\nquery data based on semantics, rather than keywords.\\nVECTOR Data Type\\nThe VECTOR data type is introduced with the release of Oracle Database 23ai, providing the\\nfoundation to store vector embeddings alongside business data in the database. Using\\nembedding models, you can transform unstructured data into vector embeddings that can then\\nbe used for semantic queries on business data. In order to use the VECTOR data type and its\\nrelated features, the COMPATIBLE initialization parameter must be set to 23.4.0 or higher. For\\nmore information about the parameter and how to change it, see Oracle Database Upgrade\\nGuide.\\nSee the following basic example of using the VECTOR data type in a table definition:')]"
      ]
     },
     "execution_count": 30,
     "metadata": {},
     "output_type": "execute_result"
    }
   ],
   "source": [
    "#Conduct Similarity searches\n",
    "query = \"Oracle AI Vector Search?\"\n",
    "retrieved_docs = vector_store.similarity_search(query, 2)\n",
    "retrieved_docs\n"
   ]
  }
 ],
 "metadata": {
  "kernelspec": {
   "display_name": "entel",
   "language": "python",
   "name": "python3"
  },
  "language_info": {
   "codemirror_mode": {
    "name": "ipython",
    "version": 3
   },
   "file_extension": ".py",
   "mimetype": "text/x-python",
   "name": "python",
   "nbconvert_exporter": "python",
   "pygments_lexer": "ipython3",
   "version": "3.13.1"
  }
 },
 "nbformat": 4,
 "nbformat_minor": 5
}
